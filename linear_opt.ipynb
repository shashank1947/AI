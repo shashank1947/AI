{
  "nbformat": 4,
  "nbformat_minor": 0,
  "metadata": {
    "colab": {
      "name": "linear opt.ipynb",
      "provenance": [],
      "authorship_tag": "ABX9TyN96wWyw5MqDy3A0Y8LqTa4",
      "include_colab_link": true
    },
    "kernelspec": {
      "name": "python3",
      "display_name": "Python 3"
    },
    "language_info": {
      "name": "python"
    }
  },
  "cells": [
    {
      "cell_type": "markdown",
      "metadata": {
        "id": "view-in-github",
        "colab_type": "text"
      },
      "source": [
        "<a href=\"https://colab.research.google.com/github/shashank1947/AI/blob/main/linear_opt.ipynb\" target=\"_parent\"><img src=\"https://colab.research.google.com/assets/colab-badge.svg\" alt=\"Open In Colab\"/></a>"
      ]
    },
    {
      "cell_type": "code",
      "metadata": {
        "colab": {
          "base_uri": "https://localhost:8080/"
        },
        "id": "nrkGNKogpsHN",
        "outputId": "07ea30c0-5a55-4dbd-e9e1-2e2be3609c4f"
      },
      "source": [
        "from scipy.optimize import linprog\n",
        "obj=[-50,-120]\n",
        "A_ieq=[[7000,2000],[10,30],[1,1]]\n",
        "b_ieq=[700000,1200,110]\n",
        "boundery=[(0,float('inf')),(0,float('inf'))]\n",
        "opt=linprog(c=obj,A_ub=A_ieq,b_ub=b_ieq,A_eq=None,b_eq=None,bounds=boundery,method=\"Simplex\")\n",
        "opt.x\n",
        "print(\"The total area of growing wheat is\",round(opt.x[0]))\n",
        "print(\"The total area of growing barley is\",round(opt.x[1]))\n",
        "profit=round(opt.x[0]*50+opt.x[1]*120)\n",
        "print(\"Netprofit is = \",profit)"
      ],
      "execution_count": null,
      "outputs": [
        {
          "output_type": "stream",
          "text": [
            "The total area of growing wheat is 98\n",
            "The total area of growing barley is 7\n",
            "Netprofit is =  5779\n"
          ],
          "name": "stdout"
        }
      ]
    }
  ]
}