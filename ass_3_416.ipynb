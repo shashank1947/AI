{
  "nbformat": 4,
  "nbformat_minor": 0,
  "metadata": {
    "colab": {
      "name": "ass 3 - 416.ipynb",
      "provenance": [],
      "collapsed_sections": [],
      "authorship_tag": "ABX9TyPJ7tGI3C/XLzsjYzaPXCA3",
      "include_colab_link": true
    },
    "kernelspec": {
      "name": "python3",
      "display_name": "Python 3"
    },
    "language_info": {
      "name": "python"
    }
  },
  "cells": [
    {
      "cell_type": "markdown",
      "metadata": {
        "id": "view-in-github",
        "colab_type": "text"
      },
      "source": [
        "<a href=\"https://colab.research.google.com/github/shashank1947/AI/blob/main/ass_3_416.ipynb\" target=\"_parent\"><img src=\"https://colab.research.google.com/assets/colab-badge.svg\" alt=\"Open In Colab\"/></a>"
      ]
    },
    {
      "cell_type": "code",
      "metadata": {
        "id": "4COnn7o4HiNL",
        "colab": {
          "base_uri": "https://localhost:8080/"
        },
        "outputId": "c22dbbaa-8ed1-41c3-beb4-f1c9eb70822a"
      },
      "source": [
        "import numpy as np\n",
        "import math\n",
        "x=np.random.uniform(-20,20)\n",
        "y=np.random.uniform(-20,20)\n",
        "eta=0.1\n",
        "iter_max=100\n",
        "iter=1\n",
        "while iter<=iter_max:\n",
        "  slope_x = 6*x\n",
        "  slope_y = -5*math.exp(-y)\n",
        "  steplength_x=-eta*slope_x\n",
        "  steplength_y=-eta*slope_y\n",
        "  x=x+steplength_x\n",
        "  y=y+steplength_y\n",
        "  iter=iter+1\n",
        "obj=3*pow(x,2)+5*math.exp(-y)+10\n",
        "print(\"Minimum value of function is = \",obj,'at x =',x,'and y =',y)"
      ],
      "execution_count": null,
      "outputs": [
        {
          "output_type": "stream",
          "name": "stdout",
          "text": [
            "Minimum value of function is =  10.000001011699084 at x = -1.739719847389772e-39 and y = 15.413317292092993\n"
          ]
        }
      ]
    }
  ]
}