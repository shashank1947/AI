{
  "nbformat": 4,
  "nbformat_minor": 0,
  "metadata": {
    "colab": {
      "name": "assihnment 5.ipynb",
      "provenance": [],
      "collapsed_sections": [],
      "mount_file_id": "1VQJ9qsjO1mHwYdt3Uwp2vN6Ya0HrbqYH",
      "authorship_tag": "ABX9TyPgvxCipj0zXzmY1rsC3mto",
      "include_colab_link": true
    },
    "kernelspec": {
      "name": "python3",
      "display_name": "Python 3"
    },
    "language_info": {
      "name": "python"
    }
  },
  "cells": [
    {
      "cell_type": "markdown",
      "metadata": {
        "id": "view-in-github",
        "colab_type": "text"
      },
      "source": [
        "<a href=\"https://colab.research.google.com/github/shashank1947/AI/blob/main/assihnment_5.ipynb\" target=\"_parent\"><img src=\"https://colab.research.google.com/assets/colab-badge.svg\" alt=\"Open In Colab\"/></a>"
      ]
    },
    {
      "cell_type": "code",
      "metadata": {
        "id": "qW9BArzkMAH6",
        "colab": {
          "base_uri": "https://localhost:8080/"
        },
        "outputId": "ec2ee7b3-973f-49bd-be91-6163ed20afc3"
      },
      "source": [
        "from google.colab import drive\n",
        "drive.mount('/content/drive')\n"
      ],
      "execution_count": 2,
      "outputs": [
        {
          "output_type": "stream",
          "name": "stdout",
          "text": [
            "Drive already mounted at /content/drive; to attempt to forcibly remount, call drive.mount(\"/content/drive\", force_remount=True).\n"
          ]
        }
      ]
    },
    {
      "cell_type": "code",
      "metadata": {
        "id": "N8O44EQFQV7F"
      },
      "source": [
        "import numpy as np\n",
        "import math as mt\n",
        "import pandas as pd\n",
        "from sklearn.model_selection import train_test_split\n",
        "from sklearn.metrics import mean_absolute_error,mean_squared_error"
      ],
      "execution_count": 3,
      "outputs": []
    },
    {
      "cell_type": "code",
      "metadata": {
        "colab": {
          "base_uri": "https://localhost:8080/",
          "height": 202
        },
        "id": "qfTsi915QrVw",
        "outputId": "e134a91e-9c85-451e-fec0-71e3eec7b74e"
      },
      "source": [
        "data = pd.read_excel('/content/drive/MyDrive/data.xlsx')\n",
        "data.head()"
      ],
      "execution_count": 4,
      "outputs": [
        {
          "output_type": "execute_result",
          "data": {
            "text/html": [
              "<div>\n",
              "<style scoped>\n",
              "    .dataframe tbody tr th:only-of-type {\n",
              "        vertical-align: middle;\n",
              "    }\n",
              "\n",
              "    .dataframe tbody tr th {\n",
              "        vertical-align: top;\n",
              "    }\n",
              "\n",
              "    .dataframe thead th {\n",
              "        text-align: right;\n",
              "    }\n",
              "</style>\n",
              "<table border=\"1\" class=\"dataframe\">\n",
              "  <thead>\n",
              "    <tr style=\"text-align: right;\">\n",
              "      <th></th>\n",
              "      <th>Unnamed: 0</th>\n",
              "      <th>L(T-3)</th>\n",
              "      <th>L(T-2)</th>\n",
              "      <th>L(T-1)</th>\n",
              "      <th>L(T)</th>\n",
              "    </tr>\n",
              "  </thead>\n",
              "  <tbody>\n",
              "    <tr>\n",
              "      <th>0</th>\n",
              "      <td>1</td>\n",
              "      <td>5551.82208</td>\n",
              "      <td>4983.17184</td>\n",
              "      <td>4888.39680</td>\n",
              "      <td>5072.95872</td>\n",
              "    </tr>\n",
              "    <tr>\n",
              "      <th>1</th>\n",
              "      <td>2</td>\n",
              "      <td>5196.25980</td>\n",
              "      <td>5641.29720</td>\n",
              "      <td>7153.17732</td>\n",
              "      <td>7849.80504</td>\n",
              "    </tr>\n",
              "    <tr>\n",
              "      <th>2</th>\n",
              "      <td>3</td>\n",
              "      <td>6329.97504</td>\n",
              "      <td>6292.87560</td>\n",
              "      <td>5349.80160</td>\n",
              "      <td>5225.40936</td>\n",
              "    </tr>\n",
              "    <tr>\n",
              "      <th>3</th>\n",
              "      <td>4</td>\n",
              "      <td>5000.47452</td>\n",
              "      <td>4775.53968</td>\n",
              "      <td>6177.05676</td>\n",
              "      <td>6177.05676</td>\n",
              "    </tr>\n",
              "    <tr>\n",
              "      <th>4</th>\n",
              "      <td>5</td>\n",
              "      <td>6155.70120</td>\n",
              "      <td>6212.12976</td>\n",
              "      <td>7424.25264</td>\n",
              "      <td>7407.41760</td>\n",
              "    </tr>\n",
              "  </tbody>\n",
              "</table>\n",
              "</div>"
            ],
            "text/plain": [
              "   Unnamed: 0      L(T-3)      L(T-2)      L(T-1)        L(T)\n",
              "0           1  5551.82208  4983.17184  4888.39680  5072.95872\n",
              "1           2  5196.25980  5641.29720  7153.17732  7849.80504\n",
              "2           3  6329.97504  6292.87560  5349.80160  5225.40936\n",
              "3           4  5000.47452  4775.53968  6177.05676  6177.05676\n",
              "4           5  6155.70120  6212.12976  7424.25264  7407.41760"
            ]
          },
          "metadata": {},
          "execution_count": 4
        }
      ]
    },
    {
      "cell_type": "code",
      "metadata": {
        "colab": {
          "base_uri": "https://localhost:8080/",
          "height": 285
        },
        "id": "JgFQCqGYRDMD",
        "outputId": "a7eb8584-c82e-4936-d968-ac2ba51a8220"
      },
      "source": [
        "def normalize(column):\n",
        "    c_max, c_min = np.max(column), np.min(column)\n",
        "    for i in range(len(column)):\n",
        "        column.iloc[i] = (column.iloc[i] - c_min) / (c_max - c_min)\n",
        "    return c_max, c_min\n",
        "x1max, x1min = normalize(data['L(T-3)'])\n",
        "x2max, x2min = normalize(data['L(T-2)'])\n",
        "x3max, x3min = normalize(data['L(T-1)'])\n",
        "ymax, ymin = normalize(data['L(T)'])\n",
        "data.head()"
      ],
      "execution_count": 5,
      "outputs": [
        {
          "output_type": "stream",
          "name": "stderr",
          "text": [
            "/usr/local/lib/python3.7/dist-packages/pandas/core/indexing.py:670: SettingWithCopyWarning: \n",
            "A value is trying to be set on a copy of a slice from a DataFrame\n",
            "\n",
            "See the caveats in the documentation: https://pandas.pydata.org/pandas-docs/stable/user_guide/indexing.html#returning-a-view-versus-a-copy\n",
            "  iloc._setitem_with_indexer(indexer, value)\n"
          ]
        },
        {
          "output_type": "execute_result",
          "data": {
            "text/html": [
              "<div>\n",
              "<style scoped>\n",
              "    .dataframe tbody tr th:only-of-type {\n",
              "        vertical-align: middle;\n",
              "    }\n",
              "\n",
              "    .dataframe tbody tr th {\n",
              "        vertical-align: top;\n",
              "    }\n",
              "\n",
              "    .dataframe thead th {\n",
              "        text-align: right;\n",
              "    }\n",
              "</style>\n",
              "<table border=\"1\" class=\"dataframe\">\n",
              "  <thead>\n",
              "    <tr style=\"text-align: right;\">\n",
              "      <th></th>\n",
              "      <th>Unnamed: 0</th>\n",
              "      <th>L(T-3)</th>\n",
              "      <th>L(T-2)</th>\n",
              "      <th>L(T-1)</th>\n",
              "      <th>L(T)</th>\n",
              "    </tr>\n",
              "  </thead>\n",
              "  <tbody>\n",
              "    <tr>\n",
              "      <th>0</th>\n",
              "      <td>1</td>\n",
              "      <td>0.318003</td>\n",
              "      <td>0.119312</td>\n",
              "      <td>0.064412</td>\n",
              "      <td>0.121468</td>\n",
              "    </tr>\n",
              "    <tr>\n",
              "      <th>1</th>\n",
              "      <td>2</td>\n",
              "      <td>0.158090</td>\n",
              "      <td>0.497492</td>\n",
              "      <td>0.899988</td>\n",
              "      <td>1.000000</td>\n",
              "    </tr>\n",
              "    <tr>\n",
              "      <th>2</th>\n",
              "      <td>3</td>\n",
              "      <td>0.667975</td>\n",
              "      <td>0.871910</td>\n",
              "      <td>0.234645</td>\n",
              "      <td>0.169700</td>\n",
              "    </tr>\n",
              "    <tr>\n",
              "      <th>3</th>\n",
              "      <td>4</td>\n",
              "      <td>0.070036</td>\n",
              "      <td>0.000000</td>\n",
              "      <td>0.539855</td>\n",
              "      <td>0.470780</td>\n",
              "    </tr>\n",
              "    <tr>\n",
              "      <th>4</th>\n",
              "      <td>5</td>\n",
              "      <td>0.589596</td>\n",
              "      <td>0.825511</td>\n",
              "      <td>1.000000</td>\n",
              "      <td>0.860038</td>\n",
              "    </tr>\n",
              "  </tbody>\n",
              "</table>\n",
              "</div>"
            ],
            "text/plain": [
              "   Unnamed: 0    L(T-3)    L(T-2)    L(T-1)      L(T)\n",
              "0           1  0.318003  0.119312  0.064412  0.121468\n",
              "1           2  0.158090  0.497492  0.899988  1.000000\n",
              "2           3  0.667975  0.871910  0.234645  0.169700\n",
              "3           4  0.070036  0.000000  0.539855  0.470780\n",
              "4           5  0.589596  0.825511  1.000000  0.860038"
            ]
          },
          "metadata": {},
          "execution_count": 5
        }
      ]
    },
    {
      "cell_type": "code",
      "metadata": {
        "colab": {
          "base_uri": "https://localhost:8080/"
        },
        "id": "K9gN2msuRDOI",
        "outputId": "c1c359e2-3e74-43b5-915a-863e9c983f65"
      },
      "source": [
        "data.isnull().sum()"
      ],
      "execution_count": 6,
      "outputs": [
        {
          "output_type": "execute_result",
          "data": {
            "text/plain": [
              "Unnamed: 0    0\n",
              "L(T-3)        0\n",
              "L(T-2)        0\n",
              "L(T-1)        0\n",
              "L(T)          0\n",
              "dtype: int64"
            ]
          },
          "metadata": {},
          "execution_count": 6
        }
      ]
    },
    {
      "cell_type": "code",
      "metadata": {
        "id": "aRxlUY66RDRh"
      },
      "source": [
        "X = data [['L(T-3)', 'L(T-2)', 'L(T-1)']]\n",
        "Y = data ['L(T)']\n",
        "xtrain, xtest, ytrain, ytest = train_test_split(X, Y, test_size=0.1, random_state=101)"
      ],
      "execution_count": 7,
      "outputs": []
    },
    {
      "cell_type": "code",
      "metadata": {
        "id": "yhlghzE8RDTV"
      },
      "source": [
        "m = [np.random.uniform(-1, 1) for i in range(xtrain.shape[1])]\n",
        "c = np.random.uniform(-1, 1)\n",
        "eeta = 0.001\n",
        "epochs = 10"
      ],
      "execution_count": 8,
      "outputs": []
    },
    {
      "cell_type": "code",
      "metadata": {
        "colab": {
          "base_uri": "https://localhost:8080/"
        },
        "id": "0rf5qoOLRQwZ",
        "outputId": "0b035a2c-14fb-4540-9cee-dbbae6c92987"
      },
      "source": [
        "for _ in range(epochs):\n",
        "    for i in range(xtrain.shape[0]):\n",
        "        y, ypred = ytrain.iloc[i], sum([xtrain.iat[i,z] * m[z] for z in range(xtrain.shape[1])]) + c\n",
        "        gradm = [-1 * xtrain.iat[i,j] * (y - ypred) for j in range(xtrain.shape[1])]\n",
        "        gradc = -1 * (y - ypred)\n",
        "        c = c - eeta * gradc\n",
        "        for j in range(len(m)):\n",
        "            m[j] = m[j] - eeta * gradm[j]\n",
        "print(m, c)"
      ],
      "execution_count": 9,
      "outputs": [
        {
          "output_type": "stream",
          "name": "stdout",
          "text": [
            "[-0.7058245611141812, 0.20226758430576325, 0.37807180075051966] 0.7542991411370709\n"
          ]
        }
      ]
    },
    {
      "cell_type": "code",
      "metadata": {
        "id": "veWUaqF4RQ0W"
      },
      "source": [
        "ytrainPred = []\n",
        "for x in range(xtrain.shape[0]):\n",
        "    ytrainPred.append(sum([xtrain.iat[x, z] * m[z] for z in range(xtrain.shape[1])]) + c)\n",
        "ytestPred = []\n",
        "for x in range(xtest.shape[0]):\n",
        "    ytestPred.append(sum([xtest.iat[x, z] * m[z] for z in range(xtest.shape[1])]) + c)"
      ],
      "execution_count": 10,
      "outputs": []
    },
    {
      "cell_type": "code",
      "metadata": {
        "colab": {
          "base_uri": "https://localhost:8080/"
        },
        "id": "Y-d9ffjaRQ2T",
        "outputId": "16ee37d9-0c96-4d6a-a6dc-f58c098190e6"
      },
      "source": [
        "xtrain['L(T-3)'] = xtrain['L(T-3)'] * (x1max - x1min) + x1min\n",
        "xtrain['L(T-2)'] = xtrain['L(T-2)'] * (x2max - x2min) + x2min\n",
        "xtrain['L(T-1)'] = xtrain['L(T-1)'] * (x3max - x3min) + x3min\n",
        "ytrain = ytrain * (ymax - ymin) + ymin\n",
        "xtest['L(T-3)'] = xtest['L(T-3)'] * (x1max - x1min) + x1min\n",
        "xtest['L(T-2)'] = xtest['L(T-2)'] * (x2max - x2min) + x2min\n",
        "xtest['L(T-1)'] = xtest['L(T-1)'] * (x3max - x3min) + x3min\n",
        "ytest = ytest * (ymax - ymin) + ymin\n",
        "ytrainPred = np.multiply(ytrainPred, (ymax - ymin)) + ymin\n",
        "ytestPred = np.multiply(ytestPred, (ymax - ymin)) + ymin"
      ],
      "execution_count": 11,
      "outputs": [
        {
          "output_type": "stream",
          "name": "stderr",
          "text": [
            "/usr/local/lib/python3.7/dist-packages/ipykernel_launcher.py:1: SettingWithCopyWarning: \n",
            "A value is trying to be set on a copy of a slice from a DataFrame.\n",
            "Try using .loc[row_indexer,col_indexer] = value instead\n",
            "\n",
            "See the caveats in the documentation: https://pandas.pydata.org/pandas-docs/stable/user_guide/indexing.html#returning-a-view-versus-a-copy\n",
            "  \"\"\"Entry point for launching an IPython kernel.\n",
            "/usr/local/lib/python3.7/dist-packages/ipykernel_launcher.py:2: SettingWithCopyWarning: \n",
            "A value is trying to be set on a copy of a slice from a DataFrame.\n",
            "Try using .loc[row_indexer,col_indexer] = value instead\n",
            "\n",
            "See the caveats in the documentation: https://pandas.pydata.org/pandas-docs/stable/user_guide/indexing.html#returning-a-view-versus-a-copy\n",
            "  \n",
            "/usr/local/lib/python3.7/dist-packages/ipykernel_launcher.py:3: SettingWithCopyWarning: \n",
            "A value is trying to be set on a copy of a slice from a DataFrame.\n",
            "Try using .loc[row_indexer,col_indexer] = value instead\n",
            "\n",
            "See the caveats in the documentation: https://pandas.pydata.org/pandas-docs/stable/user_guide/indexing.html#returning-a-view-versus-a-copy\n",
            "  This is separate from the ipykernel package so we can avoid doing imports until\n",
            "/usr/local/lib/python3.7/dist-packages/ipykernel_launcher.py:5: SettingWithCopyWarning: \n",
            "A value is trying to be set on a copy of a slice from a DataFrame.\n",
            "Try using .loc[row_indexer,col_indexer] = value instead\n",
            "\n",
            "See the caveats in the documentation: https://pandas.pydata.org/pandas-docs/stable/user_guide/indexing.html#returning-a-view-versus-a-copy\n",
            "  \"\"\"\n",
            "/usr/local/lib/python3.7/dist-packages/ipykernel_launcher.py:6: SettingWithCopyWarning: \n",
            "A value is trying to be set on a copy of a slice from a DataFrame.\n",
            "Try using .loc[row_indexer,col_indexer] = value instead\n",
            "\n",
            "See the caveats in the documentation: https://pandas.pydata.org/pandas-docs/stable/user_guide/indexing.html#returning-a-view-versus-a-copy\n",
            "  \n",
            "/usr/local/lib/python3.7/dist-packages/ipykernel_launcher.py:7: SettingWithCopyWarning: \n",
            "A value is trying to be set on a copy of a slice from a DataFrame.\n",
            "Try using .loc[row_indexer,col_indexer] = value instead\n",
            "\n",
            "See the caveats in the documentation: https://pandas.pydata.org/pandas-docs/stable/user_guide/indexing.html#returning-a-view-versus-a-copy\n",
            "  import sys\n"
          ]
        }
      ]
    },
    {
      "cell_type": "code",
      "metadata": {
        "colab": {
          "base_uri": "https://localhost:8080/"
        },
        "id": "n15aGPQlRcYM",
        "outputId": "970a7c56-b1b9-4c4b-dd4a-d46a6c6115f1"
      },
      "source": [
        "#Compute the error for training and testing data\n",
        "MAE_Train = mean_absolute_error(ytrainPred, ytrain) #Testing MAE\n",
        "MSE_Train = mean_squared_error(ytrainPred, ytrain) #Testing MSE\n",
        "RMSE_Train = mean_squared_error(ytrainPred, ytrain) ** 0.5 #Testing RMSE\n",
        "MAE_Test = mean_absolute_error(ytestPred, ytest) #Testing MAE\n",
        "MSE_Test = mean_squared_error(ytestPred, ytest) #Testing MSE\n",
        "RMSE_Test = mean_squared_error(ytestPred, ytest) ** 0.5 #Testing RMSE\n",
        "print('Training Error :')\n",
        "print('Mean Absolute Error :', MAE_Train)\n",
        "print('Mean Squared Error :', MSE_Train)\n",
        "print('Root Mean Squared Error :', RMSE_Train)\n",
        "print('\\nTesting Error :')\n",
        "print('Mean Absolute Error :', MAE_Test)\n",
        "print('Mean Squared Error :', MSE_Test)\n",
        "print('Root Mean Squared Error :', RMSE_Test)"
      ],
      "execution_count": 12,
      "outputs": [
        {
          "output_type": "stream",
          "name": "stdout",
          "text": [
            "Training Error :\n",
            "Mean Absolute Error : 1088.3944269999035\n",
            "Mean Squared Error : 1727275.2597964953\n",
            "Root Mean Squared Error : 1314.258444826015\n",
            "\n",
            "Testing Error :\n",
            "Mean Absolute Error : 1444.0406503425538\n",
            "Mean Squared Error : 2085253.3998417458\n",
            "Root Mean Squared Error : 1444.0406503425538\n"
          ]
        }
      ]
    },
    {
      "cell_type": "code",
      "metadata": {
        "colab": {
          "base_uri": "https://localhost:8080/",
          "height": 462
        },
        "id": "kygoD1hkRcfL",
        "outputId": "b9cfac76-cf86-4398-f33e-b786fd21f7a8"
      },
      "source": [
        "xtrain['Y_Train'] = ytrain\n",
        "xtrain['Y_Train_Prediction'] = ytrainPred\n",
        "xtrain"
      ],
      "execution_count": 13,
      "outputs": [
        {
          "output_type": "stream",
          "name": "stderr",
          "text": [
            "/usr/local/lib/python3.7/dist-packages/ipykernel_launcher.py:1: SettingWithCopyWarning: \n",
            "A value is trying to be set on a copy of a slice from a DataFrame.\n",
            "Try using .loc[row_indexer,col_indexer] = value instead\n",
            "\n",
            "See the caveats in the documentation: https://pandas.pydata.org/pandas-docs/stable/user_guide/indexing.html#returning-a-view-versus-a-copy\n",
            "  \"\"\"Entry point for launching an IPython kernel.\n",
            "/usr/local/lib/python3.7/dist-packages/ipykernel_launcher.py:2: SettingWithCopyWarning: \n",
            "A value is trying to be set on a copy of a slice from a DataFrame.\n",
            "Try using .loc[row_indexer,col_indexer] = value instead\n",
            "\n",
            "See the caveats in the documentation: https://pandas.pydata.org/pandas-docs/stable/user_guide/indexing.html#returning-a-view-versus-a-copy\n",
            "  \n"
          ]
        },
        {
          "output_type": "execute_result",
          "data": {
            "text/html": [
              "<div>\n",
              "<style scoped>\n",
              "    .dataframe tbody tr th:only-of-type {\n",
              "        vertical-align: middle;\n",
              "    }\n",
              "\n",
              "    .dataframe tbody tr th {\n",
              "        vertical-align: top;\n",
              "    }\n",
              "\n",
              "    .dataframe thead th {\n",
              "        text-align: right;\n",
              "    }\n",
              "</style>\n",
              "<table border=\"1\" class=\"dataframe\">\n",
              "  <thead>\n",
              "    <tr style=\"text-align: right;\">\n",
              "      <th></th>\n",
              "      <th>L(T-3)</th>\n",
              "      <th>L(T-2)</th>\n",
              "      <th>L(T-1)</th>\n",
              "      <th>Y_Train</th>\n",
              "      <th>Y_Train_Prediction</th>\n",
              "    </tr>\n",
              "  </thead>\n",
              "  <tbody>\n",
              "    <tr>\n",
              "      <th>2</th>\n",
              "      <td>6329.97504</td>\n",
              "      <td>6292.87560</td>\n",
              "      <td>5349.80160</td>\n",
              "      <td>5225.40936</td>\n",
              "      <td>6420.808501</td>\n",
              "    </tr>\n",
              "    <tr>\n",
              "      <th>5</th>\n",
              "      <td>7068.22272</td>\n",
              "      <td>6515.78400</td>\n",
              "      <td>6350.08356</td>\n",
              "      <td>5502.25224</td>\n",
              "      <td>6202.979763</td>\n",
              "    </tr>\n",
              "    <tr>\n",
              "      <th>4</th>\n",
              "      <td>6155.70120</td>\n",
              "      <td>6212.12976</td>\n",
              "      <td>7424.25264</td>\n",
              "      <td>7407.41760</td>\n",
              "      <td>7480.605540</td>\n",
              "    </tr>\n",
              "    <tr>\n",
              "      <th>6</th>\n",
              "      <td>4931.26380</td>\n",
              "      <td>4775.53968</td>\n",
              "      <td>4713.81120</td>\n",
              "      <td>4689.02628</td>\n",
              "      <td>6986.394428</td>\n",
              "    </tr>\n",
              "    <tr>\n",
              "      <th>1</th>\n",
              "      <td>5196.25980</td>\n",
              "      <td>5641.29720</td>\n",
              "      <td>7153.17732</td>\n",
              "      <td>7849.80504</td>\n",
              "      <td>8114.052122</td>\n",
              "    </tr>\n",
              "    <tr>\n",
              "      <th>3</th>\n",
              "      <td>5000.47452</td>\n",
              "      <td>4775.53968</td>\n",
              "      <td>6177.05676</td>\n",
              "      <td>6177.05676</td>\n",
              "      <td>7562.078307</td>\n",
              "    </tr>\n",
              "    <tr>\n",
              "      <th>7</th>\n",
              "      <td>4844.75040</td>\n",
              "      <td>5571.46296</td>\n",
              "      <td>6150.71304</td>\n",
              "      <td>6296.30496</td>\n",
              "      <td>7999.114568</td>\n",
              "    </tr>\n",
              "  </tbody>\n",
              "</table>\n",
              "</div>"
            ],
            "text/plain": [
              "       L(T-3)      L(T-2)      L(T-1)     Y_Train  Y_Train_Prediction\n",
              "2  6329.97504  6292.87560  5349.80160  5225.40936         6420.808501\n",
              "5  7068.22272  6515.78400  6350.08356  5502.25224         6202.979763\n",
              "4  6155.70120  6212.12976  7424.25264  7407.41760         7480.605540\n",
              "6  4931.26380  4775.53968  4713.81120  4689.02628         6986.394428\n",
              "1  5196.25980  5641.29720  7153.17732  7849.80504         8114.052122\n",
              "3  5000.47452  4775.53968  6177.05676  6177.05676         7562.078307\n",
              "7  4844.75040  5571.46296  6150.71304  6296.30496         7999.114568"
            ]
          },
          "metadata": {},
          "execution_count": 13
        }
      ]
    },
    {
      "cell_type": "code",
      "metadata": {
        "colab": {
          "base_uri": "https://localhost:8080/",
          "height": 279
        },
        "id": "l-I5H0_ERcg8",
        "outputId": "7fb19108-5985-417e-8f00-acdabf345359"
      },
      "source": [
        "xtest['Y_Test'] = ytest\n",
        "xtest['Y_Test_Prediction'] = ytestPred\n",
        "xtest"
      ],
      "execution_count": 14,
      "outputs": [
        {
          "output_type": "stream",
          "name": "stderr",
          "text": [
            "/usr/local/lib/python3.7/dist-packages/ipykernel_launcher.py:1: SettingWithCopyWarning: \n",
            "A value is trying to be set on a copy of a slice from a DataFrame.\n",
            "Try using .loc[row_indexer,col_indexer] = value instead\n",
            "\n",
            "See the caveats in the documentation: https://pandas.pydata.org/pandas-docs/stable/user_guide/indexing.html#returning-a-view-versus-a-copy\n",
            "  \"\"\"Entry point for launching an IPython kernel.\n",
            "/usr/local/lib/python3.7/dist-packages/ipykernel_launcher.py:2: SettingWithCopyWarning: \n",
            "A value is trying to be set on a copy of a slice from a DataFrame.\n",
            "Try using .loc[row_indexer,col_indexer] = value instead\n",
            "\n",
            "See the caveats in the documentation: https://pandas.pydata.org/pandas-docs/stable/user_guide/indexing.html#returning-a-view-versus-a-copy\n",
            "  \n"
          ]
        },
        {
          "output_type": "execute_result",
          "data": {
            "text/html": [
              "<div>\n",
              "<style scoped>\n",
              "    .dataframe tbody tr th:only-of-type {\n",
              "        vertical-align: middle;\n",
              "    }\n",
              "\n",
              "    .dataframe tbody tr th {\n",
              "        vertical-align: top;\n",
              "    }\n",
              "\n",
              "    .dataframe thead th {\n",
              "        text-align: right;\n",
              "    }\n",
              "</style>\n",
              "<table border=\"1\" class=\"dataframe\">\n",
              "  <thead>\n",
              "    <tr style=\"text-align: right;\">\n",
              "      <th></th>\n",
              "      <th>L(T-3)</th>\n",
              "      <th>L(T-2)</th>\n",
              "      <th>L(T-1)</th>\n",
              "      <th>Y_Test</th>\n",
              "      <th>Y_Test_Prediction</th>\n",
              "    </tr>\n",
              "  </thead>\n",
              "  <tbody>\n",
              "    <tr>\n",
              "      <th>0</th>\n",
              "      <td>5551.82208</td>\n",
              "      <td>4983.17184</td>\n",
              "      <td>4888.3968</td>\n",
              "      <td>5072.95872</td>\n",
              "      <td>6516.99937</td>\n",
              "    </tr>\n",
              "  </tbody>\n",
              "</table>\n",
              "</div>"
            ],
            "text/plain": [
              "       L(T-3)      L(T-2)     L(T-1)      Y_Test  Y_Test_Prediction\n",
              "0  5551.82208  4983.17184  4888.3968  5072.95872         6516.99937"
            ]
          },
          "metadata": {},
          "execution_count": 14
        }
      ]
    },
    {
      "cell_type": "code",
      "metadata": {
        "colab": {
          "base_uri": "https://localhost:8080/"
        },
        "id": "wil4mUtbRqRC",
        "outputId": "4fbbdd52-8dee-4526-be4d-c5cb5878dc60"
      },
      "source": [
        "#Deployment\n",
        "x1 = float(input('Enter load at T-3 hours : '))\n",
        "x2 = float(input('Enter load at T-2 hours : '))\n",
        "x3 = float(input('Enter load at T-1 hours : '))\n",
        "x1Norm = (x1 - x1min) / (x1max - x1min)\n",
        "x2Norm = (x2 - x2min) / (x2max - x2min)\n",
        "x3Norm = (x3 - x3min) / (x3max - x3min)\n",
        "yPred = x1Norm * m[0] + x2Norm * m[1] + x3Norm * m[2] + c\n",
        "y = yPred * (ymax - ymin) + ymin\n",
        "print('Load at T hour :', y)"
      ],
      "execution_count": 18,
      "outputs": [
        {
          "output_type": "stream",
          "name": "stdout",
          "text": [
            "Enter load at T-3 hours : 1000\n",
            "Enter load at T-2 hours : 1000\n",
            "Enter load at T-1 hours : 2000\n",
            "Load at T hour : 8347.360968687675\n"
          ]
        }
      ]
    }
  ]
}